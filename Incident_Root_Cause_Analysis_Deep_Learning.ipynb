{
  "cells": [
    {
      "cell_type": "markdown",
      "metadata": {
        "id": "08U1NxU3RJrC"
      },
      "source": [
        "#  Incident Root Cause Analysis\n",
        "\n",
        "Incident Reports in ITOps usually states the symptoms. Identifying the root cause of the symptom quickly is a key determinant to reducing resolution times and improving user satisfaction."
      ]
    },
    {
      "cell_type": "markdown",
      "source": [
        "# 06.01. Connecting to Google Drive"
      ],
      "metadata": {
        "id": "OAEYuRkiRXEB"
      }
    },
    {
      "cell_type": "code",
      "source": [
        "from google.colab import drive\n",
        "import os\n",
        "\n",
        "drive.mount('/content/drive')\n",
        "directory=os.getcwd()+'/drive/MyDrive/Deep Learning'\n",
        "dataset = directory+'/root_cause_analysis.csv'"
      ],
      "metadata": {
        "colab": {
          "base_uri": "https://localhost:8080/"
        },
        "id": "JlykvsAARTck",
        "outputId": "e4aef781-6d4f-43a5-bf1e-8dad93e11034"
      },
      "execution_count": 1,
      "outputs": [
        {
          "output_type": "stream",
          "name": "stdout",
          "text": [
            "Mounted at /content/drive\n"
          ]
        }
      ]
    },
    {
      "cell_type": "markdown",
      "metadata": {
        "id": "qlKtCAy4RJrE"
      },
      "source": [
        "# 06.02. Preprocessing Incident Data\n",
        "\n",
        "### Loading the Dataset"
      ]
    },
    {
      "cell_type": "code",
      "execution_count": 2,
      "metadata": {
        "scrolled": true,
        "colab": {
          "base_uri": "https://localhost:8080/",
          "height": 380
        },
        "id": "qD1Nyb-wRJrE",
        "outputId": "28380203-20ba-48b9-efdf-a0754a13374a"
      },
      "outputs": [
        {
          "output_type": "stream",
          "name": "stdout",
          "text": [
            "ID                   int64\n",
            "CPU_LOAD             int64\n",
            "MEMORY_LEAK_LOAD     int64\n",
            "DELAY                int64\n",
            "ERROR_1000           int64\n",
            "ERROR_1001           int64\n",
            "ERROR_1002           int64\n",
            "ERROR_1003           int64\n",
            "ROOT_CAUSE          object\n",
            "dtype: object\n"
          ]
        },
        {
          "output_type": "execute_result",
          "data": {
            "text/plain": [
              "   ID  CPU_LOAD  MEMORY_LEAK_LOAD  DELAY  ERROR_1000  ERROR_1001  ERROR_1002  \\\n",
              "0   1         0                 0      0           0           1           0   \n",
              "1   2         0                 0      0           0           0           0   \n",
              "2   3         0                 1      1           0           0           1   \n",
              "3   4         0                 1      0           1           1           0   \n",
              "4   5         1                 1      0           1           0           1   \n",
              "\n",
              "   ERROR_1003     ROOT_CAUSE  \n",
              "0           1    MEMORY_LEAK  \n",
              "1           1    MEMORY_LEAK  \n",
              "2           1    MEMORY_LEAK  \n",
              "3           1    MEMORY_LEAK  \n",
              "4           0  NETWORK_DELAY  "
            ],
            "text/html": [
              "\n",
              "  <div id=\"df-145fbf30-6dac-407f-b562-101fb2d56ec7\" class=\"colab-df-container\">\n",
              "    <div>\n",
              "<style scoped>\n",
              "    .dataframe tbody tr th:only-of-type {\n",
              "        vertical-align: middle;\n",
              "    }\n",
              "\n",
              "    .dataframe tbody tr th {\n",
              "        vertical-align: top;\n",
              "    }\n",
              "\n",
              "    .dataframe thead th {\n",
              "        text-align: right;\n",
              "    }\n",
              "</style>\n",
              "<table border=\"1\" class=\"dataframe\">\n",
              "  <thead>\n",
              "    <tr style=\"text-align: right;\">\n",
              "      <th></th>\n",
              "      <th>ID</th>\n",
              "      <th>CPU_LOAD</th>\n",
              "      <th>MEMORY_LEAK_LOAD</th>\n",
              "      <th>DELAY</th>\n",
              "      <th>ERROR_1000</th>\n",
              "      <th>ERROR_1001</th>\n",
              "      <th>ERROR_1002</th>\n",
              "      <th>ERROR_1003</th>\n",
              "      <th>ROOT_CAUSE</th>\n",
              "    </tr>\n",
              "  </thead>\n",
              "  <tbody>\n",
              "    <tr>\n",
              "      <th>0</th>\n",
              "      <td>1</td>\n",
              "      <td>0</td>\n",
              "      <td>0</td>\n",
              "      <td>0</td>\n",
              "      <td>0</td>\n",
              "      <td>1</td>\n",
              "      <td>0</td>\n",
              "      <td>1</td>\n",
              "      <td>MEMORY_LEAK</td>\n",
              "    </tr>\n",
              "    <tr>\n",
              "      <th>1</th>\n",
              "      <td>2</td>\n",
              "      <td>0</td>\n",
              "      <td>0</td>\n",
              "      <td>0</td>\n",
              "      <td>0</td>\n",
              "      <td>0</td>\n",
              "      <td>0</td>\n",
              "      <td>1</td>\n",
              "      <td>MEMORY_LEAK</td>\n",
              "    </tr>\n",
              "    <tr>\n",
              "      <th>2</th>\n",
              "      <td>3</td>\n",
              "      <td>0</td>\n",
              "      <td>1</td>\n",
              "      <td>1</td>\n",
              "      <td>0</td>\n",
              "      <td>0</td>\n",
              "      <td>1</td>\n",
              "      <td>1</td>\n",
              "      <td>MEMORY_LEAK</td>\n",
              "    </tr>\n",
              "    <tr>\n",
              "      <th>3</th>\n",
              "      <td>4</td>\n",
              "      <td>0</td>\n",
              "      <td>1</td>\n",
              "      <td>0</td>\n",
              "      <td>1</td>\n",
              "      <td>1</td>\n",
              "      <td>0</td>\n",
              "      <td>1</td>\n",
              "      <td>MEMORY_LEAK</td>\n",
              "    </tr>\n",
              "    <tr>\n",
              "      <th>4</th>\n",
              "      <td>5</td>\n",
              "      <td>1</td>\n",
              "      <td>1</td>\n",
              "      <td>0</td>\n",
              "      <td>1</td>\n",
              "      <td>0</td>\n",
              "      <td>1</td>\n",
              "      <td>0</td>\n",
              "      <td>NETWORK_DELAY</td>\n",
              "    </tr>\n",
              "  </tbody>\n",
              "</table>\n",
              "</div>\n",
              "    <div class=\"colab-df-buttons\">\n",
              "\n",
              "  <div class=\"colab-df-container\">\n",
              "    <button class=\"colab-df-convert\" onclick=\"convertToInteractive('df-145fbf30-6dac-407f-b562-101fb2d56ec7')\"\n",
              "            title=\"Convert this dataframe to an interactive table.\"\n",
              "            style=\"display:none;\">\n",
              "\n",
              "  <svg xmlns=\"http://www.w3.org/2000/svg\" height=\"24px\" viewBox=\"0 -960 960 960\">\n",
              "    <path d=\"M120-120v-720h720v720H120Zm60-500h600v-160H180v160Zm220 220h160v-160H400v160Zm0 220h160v-160H400v160ZM180-400h160v-160H180v160Zm440 0h160v-160H620v160ZM180-180h160v-160H180v160Zm440 0h160v-160H620v160Z\"/>\n",
              "  </svg>\n",
              "    </button>\n",
              "\n",
              "  <style>\n",
              "    .colab-df-container {\n",
              "      display:flex;\n",
              "      gap: 12px;\n",
              "    }\n",
              "\n",
              "    .colab-df-convert {\n",
              "      background-color: #E8F0FE;\n",
              "      border: none;\n",
              "      border-radius: 50%;\n",
              "      cursor: pointer;\n",
              "      display: none;\n",
              "      fill: #1967D2;\n",
              "      height: 32px;\n",
              "      padding: 0 0 0 0;\n",
              "      width: 32px;\n",
              "    }\n",
              "\n",
              "    .colab-df-convert:hover {\n",
              "      background-color: #E2EBFA;\n",
              "      box-shadow: 0px 1px 2px rgba(60, 64, 67, 0.3), 0px 1px 3px 1px rgba(60, 64, 67, 0.15);\n",
              "      fill: #174EA6;\n",
              "    }\n",
              "\n",
              "    .colab-df-buttons div {\n",
              "      margin-bottom: 4px;\n",
              "    }\n",
              "\n",
              "    [theme=dark] .colab-df-convert {\n",
              "      background-color: #3B4455;\n",
              "      fill: #D2E3FC;\n",
              "    }\n",
              "\n",
              "    [theme=dark] .colab-df-convert:hover {\n",
              "      background-color: #434B5C;\n",
              "      box-shadow: 0px 1px 3px 1px rgba(0, 0, 0, 0.15);\n",
              "      filter: drop-shadow(0px 1px 2px rgba(0, 0, 0, 0.3));\n",
              "      fill: #FFFFFF;\n",
              "    }\n",
              "  </style>\n",
              "\n",
              "    <script>\n",
              "      const buttonEl =\n",
              "        document.querySelector('#df-145fbf30-6dac-407f-b562-101fb2d56ec7 button.colab-df-convert');\n",
              "      buttonEl.style.display =\n",
              "        google.colab.kernel.accessAllowed ? 'block' : 'none';\n",
              "\n",
              "      async function convertToInteractive(key) {\n",
              "        const element = document.querySelector('#df-145fbf30-6dac-407f-b562-101fb2d56ec7');\n",
              "        const dataTable =\n",
              "          await google.colab.kernel.invokeFunction('convertToInteractive',\n",
              "                                                    [key], {});\n",
              "        if (!dataTable) return;\n",
              "\n",
              "        const docLinkHtml = 'Like what you see? Visit the ' +\n",
              "          '<a target=\"_blank\" href=https://colab.research.google.com/notebooks/data_table.ipynb>data table notebook</a>'\n",
              "          + ' to learn more about interactive tables.';\n",
              "        element.innerHTML = '';\n",
              "        dataTable['output_type'] = 'display_data';\n",
              "        await google.colab.output.renderOutput(dataTable, element);\n",
              "        const docLink = document.createElement('div');\n",
              "        docLink.innerHTML = docLinkHtml;\n",
              "        element.appendChild(docLink);\n",
              "      }\n",
              "    </script>\n",
              "  </div>\n",
              "\n",
              "\n",
              "<div id=\"df-1bc6ce61-bff4-4a0e-9790-a24240f1b7e2\">\n",
              "  <button class=\"colab-df-quickchart\" onclick=\"quickchart('df-1bc6ce61-bff4-4a0e-9790-a24240f1b7e2')\"\n",
              "            title=\"Suggest charts\"\n",
              "            style=\"display:none;\">\n",
              "\n",
              "<svg xmlns=\"http://www.w3.org/2000/svg\" height=\"24px\"viewBox=\"0 0 24 24\"\n",
              "     width=\"24px\">\n",
              "    <g>\n",
              "        <path d=\"M19 3H5c-1.1 0-2 .9-2 2v14c0 1.1.9 2 2 2h14c1.1 0 2-.9 2-2V5c0-1.1-.9-2-2-2zM9 17H7v-7h2v7zm4 0h-2V7h2v10zm4 0h-2v-4h2v4z\"/>\n",
              "    </g>\n",
              "</svg>\n",
              "  </button>\n",
              "\n",
              "<style>\n",
              "  .colab-df-quickchart {\n",
              "      --bg-color: #E8F0FE;\n",
              "      --fill-color: #1967D2;\n",
              "      --hover-bg-color: #E2EBFA;\n",
              "      --hover-fill-color: #174EA6;\n",
              "      --disabled-fill-color: #AAA;\n",
              "      --disabled-bg-color: #DDD;\n",
              "  }\n",
              "\n",
              "  [theme=dark] .colab-df-quickchart {\n",
              "      --bg-color: #3B4455;\n",
              "      --fill-color: #D2E3FC;\n",
              "      --hover-bg-color: #434B5C;\n",
              "      --hover-fill-color: #FFFFFF;\n",
              "      --disabled-bg-color: #3B4455;\n",
              "      --disabled-fill-color: #666;\n",
              "  }\n",
              "\n",
              "  .colab-df-quickchart {\n",
              "    background-color: var(--bg-color);\n",
              "    border: none;\n",
              "    border-radius: 50%;\n",
              "    cursor: pointer;\n",
              "    display: none;\n",
              "    fill: var(--fill-color);\n",
              "    height: 32px;\n",
              "    padding: 0;\n",
              "    width: 32px;\n",
              "  }\n",
              "\n",
              "  .colab-df-quickchart:hover {\n",
              "    background-color: var(--hover-bg-color);\n",
              "    box-shadow: 0 1px 2px rgba(60, 64, 67, 0.3), 0 1px 3px 1px rgba(60, 64, 67, 0.15);\n",
              "    fill: var(--button-hover-fill-color);\n",
              "  }\n",
              "\n",
              "  .colab-df-quickchart-complete:disabled,\n",
              "  .colab-df-quickchart-complete:disabled:hover {\n",
              "    background-color: var(--disabled-bg-color);\n",
              "    fill: var(--disabled-fill-color);\n",
              "    box-shadow: none;\n",
              "  }\n",
              "\n",
              "  .colab-df-spinner {\n",
              "    border: 2px solid var(--fill-color);\n",
              "    border-color: transparent;\n",
              "    border-bottom-color: var(--fill-color);\n",
              "    animation:\n",
              "      spin 1s steps(1) infinite;\n",
              "  }\n",
              "\n",
              "  @keyframes spin {\n",
              "    0% {\n",
              "      border-color: transparent;\n",
              "      border-bottom-color: var(--fill-color);\n",
              "      border-left-color: var(--fill-color);\n",
              "    }\n",
              "    20% {\n",
              "      border-color: transparent;\n",
              "      border-left-color: var(--fill-color);\n",
              "      border-top-color: var(--fill-color);\n",
              "    }\n",
              "    30% {\n",
              "      border-color: transparent;\n",
              "      border-left-color: var(--fill-color);\n",
              "      border-top-color: var(--fill-color);\n",
              "      border-right-color: var(--fill-color);\n",
              "    }\n",
              "    40% {\n",
              "      border-color: transparent;\n",
              "      border-right-color: var(--fill-color);\n",
              "      border-top-color: var(--fill-color);\n",
              "    }\n",
              "    60% {\n",
              "      border-color: transparent;\n",
              "      border-right-color: var(--fill-color);\n",
              "    }\n",
              "    80% {\n",
              "      border-color: transparent;\n",
              "      border-right-color: var(--fill-color);\n",
              "      border-bottom-color: var(--fill-color);\n",
              "    }\n",
              "    90% {\n",
              "      border-color: transparent;\n",
              "      border-bottom-color: var(--fill-color);\n",
              "    }\n",
              "  }\n",
              "</style>\n",
              "\n",
              "  <script>\n",
              "    async function quickchart(key) {\n",
              "      const quickchartButtonEl =\n",
              "        document.querySelector('#' + key + ' button');\n",
              "      quickchartButtonEl.disabled = true;  // To prevent multiple clicks.\n",
              "      quickchartButtonEl.classList.add('colab-df-spinner');\n",
              "      try {\n",
              "        const charts = await google.colab.kernel.invokeFunction(\n",
              "            'suggestCharts', [key], {});\n",
              "      } catch (error) {\n",
              "        console.error('Error during call to suggestCharts:', error);\n",
              "      }\n",
              "      quickchartButtonEl.classList.remove('colab-df-spinner');\n",
              "      quickchartButtonEl.classList.add('colab-df-quickchart-complete');\n",
              "    }\n",
              "    (() => {\n",
              "      let quickchartButtonEl =\n",
              "        document.querySelector('#df-1bc6ce61-bff4-4a0e-9790-a24240f1b7e2 button');\n",
              "      quickchartButtonEl.style.display =\n",
              "        google.colab.kernel.accessAllowed ? 'block' : 'none';\n",
              "    })();\n",
              "  </script>\n",
              "</div>\n",
              "\n",
              "    </div>\n",
              "  </div>\n"
            ]
          },
          "metadata": {},
          "execution_count": 2
        }
      ],
      "source": [
        "import pandas as pd\n",
        "import os\n",
        "import tensorflow as tf\n",
        "\n",
        "#Load the data file into a Pandas Dataframe\n",
        "symptom_data = pd.read_csv(dataset)\n",
        "\n",
        "#Explore the data loaded\n",
        "print(symptom_data.dtypes)\n",
        "symptom_data.head()"
      ]
    },
    {
      "cell_type": "markdown",
      "metadata": {
        "id": "PXAUdZfURJrF"
      },
      "source": [
        "### Convert  data\n",
        "\n",
        "Input data needs to be converted to formats that can be consumed by ML algorithms"
      ]
    },
    {
      "cell_type": "code",
      "execution_count": 3,
      "metadata": {
        "colab": {
          "base_uri": "https://localhost:8080/"
        },
        "id": "Ng6JAeRpRJrG",
        "outputId": "1cfe8f7d-8e05-44cc-c5b1-f364475b746b"
      },
      "outputs": [
        {
          "output_type": "stream",
          "name": "stdout",
          "text": [
            "Shape of feature variables : (900, 7)\n",
            "Shape of target variable : (900, 3)\n"
          ]
        }
      ],
      "source": [
        "from sklearn import preprocessing\n",
        "from sklearn.model_selection import train_test_split\n",
        "\n",
        "label_encoder = preprocessing.LabelEncoder()\n",
        "symptom_data['ROOT_CAUSE'] = label_encoder.fit_transform(\n",
        "                                symptom_data['ROOT_CAUSE'])\n",
        "\n",
        "#Convert Pandas DataFrame to a numpy vector\n",
        "np_symptom = symptom_data.to_numpy().astype(float)\n",
        "\n",
        "#Extract the feature variables (X)\n",
        "X_data = np_symptom[:,1:8]\n",
        "\n",
        "#Extract the target variable (Y), conver to one-hot-encodign\n",
        "Y_data=np_symptom[:,8]\n",
        "Y_data = tf.keras.utils.to_categorical(Y_data,3)\n",
        "\n",
        "#Split training and test data\n",
        "X_train,X_test,Y_train,Y_test = train_test_split( X_data, Y_data, test_size=0.10)\n",
        "\n",
        "print(\"Shape of feature variables :\", X_train.shape)\n",
        "print(\"Shape of target variable :\",Y_train.shape)"
      ]
    },
    {
      "cell_type": "markdown",
      "metadata": {
        "id": "Js9_hrbORJrG"
      },
      "source": [
        "## 06.03. Building and evaluating the model"
      ]
    },
    {
      "cell_type": "code",
      "execution_count": 4,
      "metadata": {
        "colab": {
          "base_uri": "https://localhost:8080/"
        },
        "id": "pek6qIKiRJrG",
        "outputId": "bdc49f3e-e0f5-422e-8e1d-a44418919355"
      },
      "outputs": [
        {
          "output_type": "stream",
          "name": "stdout",
          "text": [
            "Model: \"sequential\"\n",
            "_________________________________________________________________\n",
            " Layer (type)                Output Shape              Param #   \n",
            "=================================================================\n",
            " Dense-Layer-1 (Dense)       (None, 128)               1024      \n",
            "                                                                 \n",
            " Dense-Layer-2 (Dense)       (None, 128)               16512     \n",
            "                                                                 \n",
            " Final (Dense)               (None, 3)                 387       \n",
            "                                                                 \n",
            "=================================================================\n",
            "Total params: 17923 (70.01 KB)\n",
            "Trainable params: 17923 (70.01 KB)\n",
            "Non-trainable params: 0 (0.00 Byte)\n",
            "_________________________________________________________________\n",
            "Epoch 1/20\n",
            "12/12 [==============================] - 1s 25ms/step - loss: 0.8792 - accuracy: 0.7333 - val_loss: 0.7346 - val_accuracy: 0.7333\n",
            "Epoch 2/20\n",
            "12/12 [==============================] - 0s 5ms/step - loss: 0.6308 - accuracy: 0.8028 - val_loss: 0.5940 - val_accuracy: 0.7611\n",
            "Epoch 3/20\n",
            "12/12 [==============================] - 0s 6ms/step - loss: 0.5239 - accuracy: 0.8153 - val_loss: 0.5437 - val_accuracy: 0.7833\n",
            "Epoch 4/20\n",
            "12/12 [==============================] - 0s 6ms/step - loss: 0.4827 - accuracy: 0.8292 - val_loss: 0.5462 - val_accuracy: 0.7889\n",
            "Epoch 5/20\n",
            "12/12 [==============================] - 0s 7ms/step - loss: 0.4678 - accuracy: 0.8292 - val_loss: 0.5158 - val_accuracy: 0.7889\n",
            "Epoch 6/20\n",
            "12/12 [==============================] - 0s 5ms/step - loss: 0.4535 - accuracy: 0.8361 - val_loss: 0.5203 - val_accuracy: 0.7722\n",
            "Epoch 7/20\n",
            "12/12 [==============================] - 0s 6ms/step - loss: 0.4422 - accuracy: 0.8389 - val_loss: 0.4866 - val_accuracy: 0.8278\n",
            "Epoch 8/20\n",
            "12/12 [==============================] - 0s 6ms/step - loss: 0.4375 - accuracy: 0.8375 - val_loss: 0.5033 - val_accuracy: 0.8000\n",
            "Epoch 9/20\n",
            "12/12 [==============================] - 0s 5ms/step - loss: 0.4344 - accuracy: 0.8375 - val_loss: 0.4922 - val_accuracy: 0.8389\n",
            "Epoch 10/20\n",
            "12/12 [==============================] - 0s 6ms/step - loss: 0.4279 - accuracy: 0.8417 - val_loss: 0.4994 - val_accuracy: 0.8167\n",
            "Epoch 11/20\n",
            "12/12 [==============================] - 0s 6ms/step - loss: 0.4225 - accuracy: 0.8403 - val_loss: 0.4769 - val_accuracy: 0.8167\n",
            "Epoch 12/20\n",
            "12/12 [==============================] - 0s 5ms/step - loss: 0.4189 - accuracy: 0.8472 - val_loss: 0.4707 - val_accuracy: 0.8222\n",
            "Epoch 13/20\n",
            "12/12 [==============================] - 0s 5ms/step - loss: 0.4126 - accuracy: 0.8500 - val_loss: 0.5162 - val_accuracy: 0.7778\n",
            "Epoch 14/20\n",
            "12/12 [==============================] - 0s 6ms/step - loss: 0.4130 - accuracy: 0.8444 - val_loss: 0.4691 - val_accuracy: 0.8222\n",
            "Epoch 15/20\n",
            "12/12 [==============================] - 0s 5ms/step - loss: 0.4042 - accuracy: 0.8444 - val_loss: 0.4841 - val_accuracy: 0.8111\n",
            "Epoch 16/20\n",
            "12/12 [==============================] - 0s 21ms/step - loss: 0.3986 - accuracy: 0.8556 - val_loss: 0.5269 - val_accuracy: 0.7833\n",
            "Epoch 17/20\n",
            "12/12 [==============================] - 0s 8ms/step - loss: 0.3975 - accuracy: 0.8472 - val_loss: 0.4823 - val_accuracy: 0.7944\n",
            "Epoch 18/20\n",
            "12/12 [==============================] - 0s 5ms/step - loss: 0.3945 - accuracy: 0.8486 - val_loss: 0.4826 - val_accuracy: 0.8056\n",
            "Epoch 19/20\n",
            "12/12 [==============================] - 0s 6ms/step - loss: 0.3928 - accuracy: 0.8458 - val_loss: 0.4848 - val_accuracy: 0.8056\n",
            "Epoch 20/20\n",
            "12/12 [==============================] - 0s 5ms/step - loss: 0.3872 - accuracy: 0.8486 - val_loss: 0.4544 - val_accuracy: 0.8556\n",
            "\n",
            "Evaluation against Test Dataset :\n",
            "------------------------------------\n",
            "4/4 [==============================] - 0s 4ms/step - loss: 0.3276 - accuracy: 0.8800\n"
          ]
        },
        {
          "output_type": "execute_result",
          "data": {
            "text/plain": [
              "[0.32755550742149353, 0.8799999952316284]"
            ]
          },
          "metadata": {},
          "execution_count": 4
        }
      ],
      "source": [
        "from tensorflow import keras\n",
        "from tensorflow.keras import optimizers\n",
        "from tensorflow.keras.regularizers import l2\n",
        "\n",
        "#Setup Training Parameters\n",
        "EPOCHS=20\n",
        "BATCH_SIZE=64\n",
        "VERBOSE=1\n",
        "OUTPUT_CLASSES=len(label_encoder.classes_)\n",
        "N_HIDDEN=128\n",
        "VALIDATION_SPLIT=0.2\n",
        "\n",
        "#Create a Keras sequential model\n",
        "model = tf.keras.models.Sequential()\n",
        "#Add a Dense Layer\n",
        "model.add(keras.layers.Dense(N_HIDDEN,\n",
        "                             input_shape=(7,),\n",
        "                              name='Dense-Layer-1',\n",
        "                              activation='relu'))\n",
        "\n",
        "#Add a second dense layer\n",
        "model.add(keras.layers.Dense(N_HIDDEN,\n",
        "                              name='Dense-Layer-2',\n",
        "                              activation='relu'))\n",
        "\n",
        "#Add a softmax layer for categorial prediction\n",
        "model.add(keras.layers.Dense(OUTPUT_CLASSES,\n",
        "                             name='Final',\n",
        "                             activation='softmax'))\n",
        "\n",
        "#Compile the model\n",
        "model.compile(\n",
        "              loss='categorical_crossentropy',\n",
        "              metrics=['accuracy'])\n",
        "\n",
        "\n",
        "model.summary()\n",
        "\n",
        "#Build the model\n",
        "model.fit(X_train,\n",
        "          Y_train,\n",
        "          batch_size=BATCH_SIZE,\n",
        "          epochs=EPOCHS,\n",
        "          verbose=VERBOSE,\n",
        "          validation_split=VALIDATION_SPLIT)\n",
        "\n",
        "\n",
        "#Evaluate the model against the test dataset and print results\n",
        "print(\"\\nEvaluation against Test Dataset :\\n------------------------------------\")\n",
        "model.evaluate(X_test,Y_test)"
      ]
    },
    {
      "cell_type": "markdown",
      "metadata": {
        "id": "O6tmSrjCRJrH"
      },
      "source": [
        "## 06.04. Predicting Root Causes"
      ]
    },
    {
      "cell_type": "code",
      "execution_count": 5,
      "metadata": {
        "colab": {
          "base_uri": "https://localhost:8080/"
        },
        "id": "Bm48xEKeRJrH",
        "outputId": "f7d7360e-d5d3-42b8-eb74-8f7d2f451f43"
      },
      "outputs": [
        {
          "output_type": "stream",
          "name": "stdout",
          "text": [
            "1/1 [==============================] - 0s 104ms/step\n",
            "['DATABASE_ISSUE']\n"
          ]
        }
      ],
      "source": [
        "#Pass individual flags to Predict the root cause\n",
        "import numpy as np\n",
        "\n",
        "CPU_LOAD=1\n",
        "MEMORY_LOAD=0\n",
        "DELAY=0\n",
        "ERROR_1000=0\n",
        "ERROR_1001=1\n",
        "ERROR_1002=1\n",
        "ERROR_1003=0\n",
        "\n",
        "prediction=np.argmax(model.predict(\n",
        "    [[CPU_LOAD,MEMORY_LOAD,DELAY,\n",
        "      ERROR_1000,ERROR_1001,ERROR_1002,ERROR_1003]]), axis=1 )\n",
        "\n",
        "print(label_encoder.inverse_transform(prediction))"
      ]
    },
    {
      "cell_type": "code",
      "execution_count": 6,
      "metadata": {
        "colab": {
          "base_uri": "https://localhost:8080/"
        },
        "id": "_sZqyEhiRJrI",
        "outputId": "2aa95caf-4ac2-48bd-f892-445f5fdd6766"
      },
      "outputs": [
        {
          "output_type": "stream",
          "name": "stdout",
          "text": [
            "1/1 [==============================] - 0s 52ms/step\n",
            "['DATABASE_ISSUE' 'NETWORK_DELAY' 'MEMORY_LEAK' 'DATABASE_ISSUE'\n",
            " 'DATABASE_ISSUE']\n"
          ]
        }
      ],
      "source": [
        "#Predicting as a Batch\n",
        "print(label_encoder.inverse_transform(np.argmax(\n",
        "        model.predict([[1,0,0,0,1,1,0],\n",
        "                                [0,1,1,1,0,0,0],\n",
        "                                [1,1,0,1,1,0,1],\n",
        "                                [0,0,0,0,0,1,0],\n",
        "                                [1,0,1,0,1,1,1]]), axis=1 )))"
      ]
    },
    {
      "cell_type": "code",
      "execution_count": null,
      "metadata": {
        "id": "I4Gr6v1lRJrI"
      },
      "outputs": [],
      "source": []
    }
  ],
  "metadata": {
    "kernelspec": {
      "display_name": "Python 3 (ipykernel)",
      "language": "python",
      "name": "python3"
    },
    "language_info": {
      "codemirror_mode": {
        "name": "ipython",
        "version": 3
      },
      "file_extension": ".py",
      "mimetype": "text/x-python",
      "name": "python",
      "nbconvert_exporter": "python",
      "pygments_lexer": "ipython3",
      "version": "3.8.11"
    },
    "colab": {
      "provenance": []
    }
  },
  "nbformat": 4,
  "nbformat_minor": 0
}